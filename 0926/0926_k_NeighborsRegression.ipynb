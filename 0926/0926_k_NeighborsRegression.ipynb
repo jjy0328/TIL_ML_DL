{
  "nbformat": 4,
  "nbformat_minor": 0,
  "metadata": {
    "colab": {
      "provenance": []
    },
    "kernelspec": {
      "name": "python3",
      "display_name": "Python 3"
    },
    "language_info": {
      "name": "python"
    }
  },
  "cells": [
    {
      "cell_type": "markdown",
      "source": [
        "# k-NeighborsRegression\n",
        "\n",
        "## 회귀: 두 변수 사이의 상관관계를 분석하는 방법\n",
        "- 내년 경제 성장률 예측, 배달이 도착할 시간 예측 등\n",
        "- 예측하려는 샘플에 가장 가까운 샘플 k개 선택 후, 이 샘플들의 임의의 수치 확인 후 평균 구하기"
      ],
      "metadata": {
        "id": "NSD8A8ldlYQK"
      }
    },
    {
      "cell_type": "code",
      "execution_count": 1,
      "metadata": {
        "id": "vBDU_05qg2-u"
      },
      "outputs": [],
      "source": [
        "import numpy as np"
      ]
    },
    {
      "cell_type": "code",
      "source": [
        "# 데이터 준비\n",
        "\n",
        "perch_length = np.array(\n",
        "    [8.4, 13.7, 15.0, 16.2, 17.4, 18.0, 18.7, 19.0, 19.6, 20.0, \n",
        "     21.0, 21.0, 21.0, 21.3, 22.0, 22.0, 22.0, 22.0, 22.0, 22.5, \n",
        "     22.5, 22.7, 23.0, 23.5, 24.0, 24.0, 24.6, 25.0, 25.6, 26.5, \n",
        "     27.3, 27.5, 27.5, 27.5, 28.0, 28.7, 30.0, 32.8, 34.5, 35.0, \n",
        "     36.5, 36.0, 37.0, 37.0, 39.0, 39.0, 39.0, 40.0, 40.0, 40.0, \n",
        "     40.0, 42.0, 43.0, 43.0, 43.5, 44.0]\n",
        "     )\n",
        "perch_weight = np.array(\n",
        "    [5.9, 32.0, 40.0, 51.5, 70.0, 100.0, 78.0, 80.0, 85.0, 85.0, \n",
        "     110.0, 115.0, 125.0, 130.0, 120.0, 120.0, 130.0, 135.0, 110.0, \n",
        "     130.0, 150.0, 145.0, 150.0, 170.0, 225.0, 145.0, 188.0, 180.0, \n",
        "     197.0, 218.0, 300.0, 260.0, 265.0, 250.0, 250.0, 300.0, 320.0, \n",
        "     514.0, 556.0, 840.0, 685.0, 700.0, 700.0, 690.0, 900.0, 650.0, \n",
        "     820.0, 850.0, 900.0, 1015.0, 820.0, 1100.0, 1000.0, 1100.0, \n",
        "     1000.0, 1000.0]\n",
        "     )"
      ],
      "metadata": {
        "id": "FIsMqTGemkdi"
      },
      "execution_count": 2,
      "outputs": []
    },
    {
      "cell_type": "code",
      "source": [
        "import matplotlib.pyplot as plt\n",
        "\n",
        "# 농어의 길이에 따라 무게가 커짐\n",
        "\n",
        "plt.scatter(perch_length, perch_weight)\n",
        "plt.xlabel('length')\n",
        "plt.ylabel('length')\n",
        "plt.show()"
      ],
      "metadata": {
        "colab": {
          "base_uri": "https://localhost:8080/",
          "height": 279
        },
        "id": "P7kIx0XfmqZN",
        "outputId": "6cb97d6c-b72d-408c-8aff-5f7b4a4c0c39"
      },
      "execution_count": 4,
      "outputs": [
        {
          "output_type": "display_data",
          "data": {
            "text/plain": [
              "<Figure size 432x288 with 1 Axes>"
            ],
            "image/png": "[encoded data removed]"
          },
          "metadata": {
            "needs_background": "light"
          }
        }
      ]
    },
    {
      "cell_type": "code",
      "source": [
        "from sklearn.model_selection import train_test_split\n",
        "\n",
        "train_input, test_input, train_target, test_target = train_test_split(perch_length, perch_weight, random_state=42)"
      ],
      "metadata": {
        "id": "bXPiR3IYm70k"
      },
      "execution_count": 9,
      "outputs": []
    },
    {
      "cell_type": "code",
      "source": [
        "# input 값의 특성이 1개이기에 2차원 배열로 reshape\n",
        "\n",
        "train_input = train_input.reshape(-1,1)\n",
        "test_input = test_input.reshape(-1,1)\n",
        "print(train_input.shape, test_input.shape)"
      ],
      "metadata": {
        "colab": {
          "base_uri": "https://localhost:8080/"
        },
        "id": "eDI4BzrxngfT",
        "outputId": "1667c413-83f0-4738-818a-bec3c3b175aa"
      },
      "execution_count": 10,
      "outputs": [
        {
          "output_type": "stream",
          "name": "stdout",
          "text": [
            "(42, 1) (14, 1)\n"
          ]
        }
      ]
    },
    {
      "cell_type": "code",
      "source": [
        "from sklearn.neighbors import KNeighborsRegressor"
      ],
      "metadata": {
        "id": "V6E4HLiKoWbc"
      },
      "execution_count": 11,
      "outputs": []
    },
    {
      "cell_type": "code",
      "source": [
        "# knr 객체 생성\n",
        "knr = KNeighborsRegressor()\n",
        "\n",
        "# fit() 메소드로 회귀모델 훈련\n",
        "knr.fit(train_input, train_target)"
      ],
      "metadata": {
        "colab": {
          "base_uri": "https://localhost:8080/"
        },
        "id": "diXa70ogo9CZ",
        "outputId": "b4422e6f-61d9-4d6d-c457-6dab17486472"
      },
      "execution_count": 12,
      "outputs": [
        {
          "output_type": "execute_result",
          "data": {
            "text/plain": [
              "KNeighborsRegressor()"
            ]
          },
          "metadata": {},
          "execution_count": 12
        }
      ]
    },
    {
      "cell_type": "markdown",
      "source": [
        "## 결정계수\n",
        "\n",
        "### 분류 \n",
        "  - 정확도 : 테스트 세트에 있는 샘플을 정확하게 분류한 개수의 비율\n",
        "\n",
        "### 회귀 : 결정계수\n",
        "<br>\n",
        "<img src = \"https://drive.google.com/uc?id=1_RUk9340iiKl_xDawgGxqwXu-vHy7hce\" height = 200 width = 500> <br>\n",
        "\n",
        "- 타깃의 평균 정도 예측 : 0애 가까워지는 값\n",
        "- 예측이 타깃에 가까워짐 : 1에 가까워지는 값\n",
        "\n",
        "<br>\n",
        "- 사이킷런의 score() 메소드의 출력값은 높을수록 좋은 것!\n",
        "\n",
        "\n"
      ],
      "metadata": {
        "id": "OU9wWT7zp4as"
      }
    },
    {
      "cell_type": "code",
      "source": [
        "# 결정계수\n",
        "knr.score(test_input, test_target)"
      ],
      "metadata": {
        "colab": {
          "base_uri": "https://localhost:8080/"
        },
        "id": "nhHvEY21pGGI",
        "outputId": "dfb5ba38-1f59-42e5-fc7b-2e9750a42818"
      },
      "execution_count": 14,
      "outputs": [
        {
          "output_type": "execute_result",
          "data": {
            "text/plain": [
              "0.992809406101064"
            ]
          },
          "metadata": {},
          "execution_count": 14
        }
      ]
    },
    {
      "cell_type": "markdown",
      "source": [
        "### 타깃과 예측한 값 사이의 차 구해보기"
      ],
      "metadata": {
        "id": "vneyN7Y5tIkw"
      }
    },
    {
      "cell_type": "code",
      "source": [
        "from sklearn.metrics import mean_absolute_error"
      ],
      "metadata": {
        "id": "6AaemHu_tIPa"
      },
      "execution_count": 15,
      "outputs": []
    },
    {
      "cell_type": "code",
      "source": [
        "# 테스트 세트에 대한 예측 만들기\n",
        "test_prediction = knr.predict(test_input)\n",
        "\n",
        "# 테스트 세트에 대한 평균 절댓값 오차 계산\n",
        "# 타깃과 예측을 뺀 값을 제곱 -> 전체 샘플에 대해 평균한 값 반환\n",
        "\n",
        "# 예측이 평균적으로 19g 정도 타갓값과 다름\n",
        "mea = mean_absolute_error(test_target, test_prediction)\n",
        "print(mea)"
      ],
      "metadata": {
        "colab": {
          "base_uri": "https://localhost:8080/"
        },
        "id": "JTs9d8pHpLg4",
        "outputId": "fd640fda-edf5-4b83-db74-fda6b642280c"
      },
      "execution_count": 16,
      "outputs": [
        {
          "output_type": "stream",
          "name": "stdout",
          "text": [
            "19.157142857142862\n"
          ]
        }
      ]
    },
    {
      "cell_type": "markdown",
      "source": [
        "## 과대적합, 과소적합"
      ],
      "metadata": {
        "id": "bJkVvNfyuB9O"
      }
    },
    {
      "cell_type": "code",
      "source": [
        "# train 세트의 결정계수 구해보기\n",
        "\n",
        "knr.score(train_input, train_target)"
      ],
      "metadata": {
        "colab": {
          "base_uri": "https://localhost:8080/"
        },
        "id": "Rinh8HZ5tv_b",
        "outputId": "b4101738-6025-4f08-9ced-101d2682b176"
      },
      "execution_count": 17,
      "outputs": [
        {
          "output_type": "execute_result",
          "data": {
            "text/plain": [
              "0.9698823289099254"
            ]
          },
          "metadata": {},
          "execution_count": 17
        }
      ]
    },
    {
      "cell_type": "markdown",
      "source": [
        "### 과대적합\n",
        "- 훈련 세트에 잘 맞는 모델이기에 테스트 세트와 새로운 샘플에 대한 예측점수가 낮음\n",
        "\n",
        "### 과소적합\n",
        "- 모델이 너무 단순하여 훈련 세트에 적절히 훈련되지 않음\n",
        "- 훈련 세트와 테스트 세트의 점수가 모두 높거나 모두 낮은 경우\n",
        "- 훈련 세트와 테스트 세트의 크기가 매우 작은 경우도 해당\n",
        "\n",
        "<br><br>\n",
        "문제 : <br>\n",
        "- 훈련 세트의 결정계수가 더 높게 나와야함에도 불구하고 테스트 세트의 결정계수가 더 높게 나옴 -> 과소적합 <br>\n",
        "\n",
        "해결책 : \n",
        "- 이웃의 개수, k 줄이기 (기본값은 5)\n",
        "- k의 개수를 줄임 -> 패턴에 민감\n",
        "- k의 개수를 늘림 -> 데이터 전반의 일반적 패턴을 따름"
      ],
      "metadata": {
        "id": "O8XoIPNpuOBd"
      }
    },
    {
      "cell_type": "code",
      "source": [
        "# 이웃의 개수 3으로 설정\n",
        "knr.n_neighbors = 3\n",
        "\n",
        "# 모델 다시 훈련\n",
        "knr.fit(train_input, train_target)\n",
        "knr.score(train_input, train_target)"
      ],
      "metadata": {
        "colab": {
          "base_uri": "https://localhost:8080/"
        },
        "id": "NICczmsHuNTX",
        "outputId": "7c38cac3-6e8e-42fd-b540-38f575bab110"
      },
      "execution_count": 18,
      "outputs": [
        {
          "output_type": "execute_result",
          "data": {
            "text/plain": [
              "0.9804899950518966"
            ]
          },
          "metadata": {},
          "execution_count": 18
        }
      ]
    },
    {
      "cell_type": "code",
      "source": [
        "# 테스트 세트의 점수가 훈련 세트보다 낮아졌으므로 과소적합 문제 해결\n",
        "# 점수의 차이가 크지 않으므로 과대적합의 문제도 없음\n",
        "knr.score(test_input, test_target)"
      ],
      "metadata": {
        "colab": {
          "base_uri": "https://localhost:8080/"
        },
        "id": "1f-gjY5awoG8",
        "outputId": "72768a60-48eb-420a-b759-1cadea1b6460"
      },
      "execution_count": 19,
      "outputs": [
        {
          "output_type": "execute_result",
          "data": {
            "text/plain": [
              "0.9746459963987609"
            ]
          },
          "metadata": {},
          "execution_count": 19
        }
      ]
    },
    {
      "cell_type": "code",
      "source": [],
      "metadata": {
        "id": "DBKZPUZCwrt2"
      },
      "execution_count": null,
      "outputs": []
    }
  ]
}