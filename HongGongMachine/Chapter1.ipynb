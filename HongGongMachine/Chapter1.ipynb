{
  "cells": [
    {
      "cell_type": "markdown",
      "metadata": {
        "id": "TAF1m7m1jbXQ"
      },
      "source": [
        "# 인공지능\n",
        "- 사람처럼 학습하고 추론할 수 있는 지능을 가진 시스테을 만드는 기술"
      ]
    },
    {
      "cell_type": "markdown",
      "metadata": {
        "id": "BCCVBXMVIC20"
      },
      "source": [
        "# 머신러닝\n",
        "\n",
        "- 규칙을 프로그래밍하지 않아도 자동으로 데이터에서 규칙을 학습하는 알고리즘을 연구하는 분야\n",
        "- 통계학과 깊은 관련이 있으나 최근 머신러닝의 발전은 경험을 바탕으로 발전하는 경우도 많음"
      ]
    },
    {
      "cell_type": "markdown",
      "metadata": {
        "id": "xJHkgLD1iA8q"
      },
      "source": [
        "## 사이킷런\n",
        "- 사이킷런 라이브러리에서 제공하는 클래스와 함수를 사용하여 필요한 작업 수행 가능\n",
        "- 안정적이며 성능이 검증됨"
      ]
    },
    {
      "cell_type": "markdown",
      "metadata": {
        "id": "uDcdeRzjqdwM"
      },
      "source": [
        "# 딥러닝\n",
        "- 인공신경망을 기반으로 한 방법들 통칭"
      ]
    },
    {
      "cell_type": "markdown",
      "metadata": {
        "id": "7DY3Bel6hqlQ"
      },
      "source": [
        "# 생선 분류 문제\n",
        "- 도미와 빙어 구분하기 <br>\n",
        "- **이진분류** 이용하기\n",
        "  - 두 개의 클래스 중 하나를 고르는 문제"
      ]
    },
    {
      "cell_type": "markdown",
      "metadata": {
        "id": "Ywh0CDaMlXQN"
      },
      "source": [
        "## 관련 개념 정리\n",
        "\n",
        "- 특성 : 데이터츷 표현하는 하나의 성질. 생선 데이터 각각의 길이와 무게가 특성\n",
        "- 선형 : 그래프가 일직선에 가까운 형태를 나타내는 경우"
      ]
    },
    {
      "cell_type": "code",
      "execution_count": 4,
      "metadata": {
        "id": "M7awK-4q8Qbt"
      },
      "outputs": [],
      "source": [
        "import pandas as pd\n",
        "import numpy as np\n",
        "import matplotlib.pyplot as plt\n",
        "import seaborn as sns"
      ]
    },
    {
      "cell_type": "code",
      "execution_count": 5,
      "metadata": {
        "id": "o0UB2htj8o6Q"
      },
      "outputs": [],
      "source": [
        "# 도미  특성\n",
        "# bream_length : 도미의 길이   bream_weight : 도미의 무게\n",
        "\n",
        "bream_length = [25.4, 26.3, 26.5, 29.0, 29.0, 29.7, 29.7, 30.0, 30.0, 30.7, 31.0, 31.0, \n",
        "                31.5, 32.0, 32.0, 32.0, 33.0, 33.0, 33.5, 33.5, 34.0, 34.0, 34.5, 35.0, \n",
        "                35.0, 35.0, 35.0, 36.0, 36.0, 37.0, 38.5, 38.5, 39.5, 41.0, 41.0]\n",
        "bream_weight = [242.0, 290.0, 340.0, 363.0, 430.0, 450.0, 500.0, 390.0, 450.0, 500.0, 475.0, 500.0, \n",
        "                500.0, 340.0, 600.0, 600.0, 700.0, 700.0, 610.0, 650.0, 575.0, 685.0, 620.0, 680.0, \n",
        "                700.0, 725.0, 720.0, 714.0, 850.0, 1000.0, 920.0, 955.0, 925.0, 975.0, 950.0]"
      ]
    },
    {
      "cell_type": "code",
      "execution_count": 6,
      "metadata": {
        "colab": {
          "base_uri": "https://localhost:8080/",
          "height": 265
        },
        "id": "hApEPLNx9BKi",
        "outputId": "64b7b109-3315-4729-f675-6a4ae6015d03"
      },
      "outputs": [
        {
          "data": {
            "image/png": "[encoded data removed]",
            "text/plain": [
              "<Figure size 432x288 with 1 Axes>"
            ]
          },
          "metadata": {
            "needs_background": "light"
          },
          "output_type": "display_data"
        }
      ],
      "source": [
        "# 그래프가 선형적임\n",
        "\n",
        "plt.scatter(x = bream_length, y = bream_weight)\n",
        "plt.xlable = 'length'\n",
        "plt.ylable = 'weight'\n",
        "plt.show()"
      ]
    },
    {
      "cell_type": "code",
      "execution_count": 7,
      "metadata": {
        "id": "oWtOJSdT9cyQ"
      },
      "outputs": [],
      "source": [
        "# 빙어 특성\n",
        "smelt_length = [9.8, 10.5, 10.6, 11.0, 11.2, 11.3, 11.8, 11.8, 12.0, 12.2, 12.4, 13.0, 14.3, 15.0]\n",
        "smelt_weight = [6.7, 7.5, 7.0, 9.7, 9.8, 8.7, 10.0, 9.9, 9.8, 12.2, 13.4, 12.2, 19.7, 19.9]"
      ]
    },
    {
      "cell_type": "code",
      "execution_count": 8,
      "metadata": {
        "colab": {
          "base_uri": "https://localhost:8080/",
          "height": 265
        },
        "id": "ldbtlD6C90Um",
        "outputId": "2f5f69e8-43fa-459f-d84f-36a270acb792"
      },
      "outputs": [
        {
          "data": {
            "image/png": "[encoded data removed]",
            "text/plain": [
              "<Figure size 432x288 with 1 Axes>"
            ]
          },
          "metadata": {
            "needs_background": "light"
          },
          "output_type": "display_data"
        }
      ],
      "source": [
        "# 빙어의 산점도도 선형적이나 무게가 길이에 영향을 덜 받음\n",
        "\n",
        "plt.scatter(x = bream_length, y = bream_weight)\n",
        "plt.scatter(x = smelt_length, y = smelt_weight)\n",
        "\n",
        "plt.xlable = 'length'\n",
        "plt.ylable = 'weight'\n",
        "plt.show()"
      ]
    },
    {
      "cell_type": "markdown",
      "metadata": {
        "id": "zDrQezdLmexP"
      },
      "source": [
        "# 데이터 합치기"
      ]
    },
    {
      "cell_type": "code",
      "execution_count": 9,
      "metadata": {
        "id": "Yyo3NA7t-WyQ"
      },
      "outputs": [],
      "source": [
        "# 두 개의 리스츠를 하나로 합침\n",
        "\n",
        "length = bream_length + smelt_length\n",
        "weight = bream_weight + smelt_weight"
      ]
    },
    {
      "cell_type": "code",
      "execution_count": 10,
      "metadata": {
        "colab": {
          "base_uri": "https://localhost:8080/"
        },
        "id": "UKjsIG5c_K0e",
        "outputId": "c44b871d-c742-43a9-b031-5a167160264f"
      },
      "outputs": [
        {
          "data": {
            "text/plain": [
              "[[25.4, 242.0],\n",
              " [26.3, 290.0],\n",
              " [26.5, 340.0],\n",
              " [29.0, 363.0],\n",
              " [29.0, 430.0],\n",
              " [29.7, 450.0],\n",
              " [29.7, 500.0],\n",
              " [30.0, 390.0],\n",
              " [30.0, 450.0],\n",
              " [30.7, 500.0],\n",
              " [31.0, 475.0],\n",
              " [31.0, 500.0],\n",
              " [31.5, 500.0],\n",
              " [32.0, 340.0],\n",
              " [32.0, 600.0],\n",
              " [32.0, 600.0],\n",
              " [33.0, 700.0],\n",
              " [33.0, 700.0],\n",
              " [33.5, 610.0],\n",
              " [33.5, 650.0],\n",
              " [34.0, 575.0],\n",
              " [34.0, 685.0],\n",
              " [34.5, 620.0],\n",
              " [35.0, 680.0],\n",
              " [35.0, 700.0],\n",
              " [35.0, 725.0],\n",
              " [35.0, 720.0],\n",
              " [36.0, 714.0],\n",
              " [36.0, 850.0],\n",
              " [37.0, 1000.0],\n",
              " [38.5, 920.0],\n",
              " [38.5, 955.0],\n",
              " [39.5, 925.0],\n",
              " [41.0, 975.0],\n",
              " [41.0, 950.0],\n",
              " [9.8, 6.7],\n",
              " [10.5, 7.5],\n",
              " [10.6, 7.0],\n",
              " [11.0, 9.7],\n",
              " [11.2, 9.8],\n",
              " [11.3, 8.7],\n",
              " [11.8, 10.0],\n",
              " [11.8, 9.9],\n",
              " [12.0, 9.8],\n",
              " [12.2, 12.2],\n",
              " [12.4, 13.4],\n",
              " [13.0, 12.2],\n",
              " [14.3, 19.7],\n",
              " [15.0, 19.9]]"
            ]
          },
          "execution_count": 10,
          "metadata": {},
          "output_type": "execute_result"
        }
      ],
      "source": [
        "# weight와 length 2차원 리스트로 만들어보기 \n",
        "\n",
        "fish = [[l,w] for l,w in zip(length,weight)]\n",
        "fish"
      ]
    },
    {
      "cell_type": "code",
      "execution_count": 11,
      "metadata": {
        "colab": {
          "base_uri": "https://localhost:8080/"
        },
        "collapsed": true,
        "id": "3sZ92Z9fGLIo",
        "outputId": "0e01dcaa-c685-4811-84d5-7525e701f9a9"
      },
      "outputs": [
        {
          "data": {
            "text/plain": [
              "[1,\n",
              " 1,\n",
              " 1,\n",
              " 1,\n",
              " 1,\n",
              " 1,\n",
              " 1,\n",
              " 1,\n",
              " 1,\n",
              " 1,\n",
              " 1,\n",
              " 1,\n",
              " 1,\n",
              " 1,\n",
              " 1,\n",
              " 1,\n",
              " 1,\n",
              " 1,\n",
              " 1,\n",
              " 1,\n",
              " 1,\n",
              " 1,\n",
              " 1,\n",
              " 1,\n",
              " 1,\n",
              " 1,\n",
              " 1,\n",
              " 1,\n",
              " 1,\n",
              " 1,\n",
              " 1,\n",
              " 1,\n",
              " 1,\n",
              " 1,\n",
              " 1,\n",
              " 0,\n",
              " 0,\n",
              " 0,\n",
              " 0,\n",
              " 0,\n",
              " 0,\n",
              " 0,\n",
              " 0,\n",
              " 0,\n",
              " 0,\n",
              " 0,\n",
              " 0,\n",
              " 0,\n",
              " 0]"
            ]
          },
          "execution_count": 11,
          "metadata": {},
          "output_type": "execute_result"
        }
      ],
      "source": [
        "# 정답 데이터 만들기 : 머신러닝에서는 정답값이 1, 아닌 것을 0으로 봄 \n",
        "# 정답 데이터를 만드는 이유 : 예측에 관한 답이 있어야 정확하게 예측했는지를 알 수 있기 때문\n",
        "\n",
        "fish_target = [1] * 35 + [0] * 14\n",
        "fish_target"
      ]
    },
    {
      "cell_type": "markdown",
      "metadata": {
        "id": "WpqeRxddNCeM"
      },
      "source": [
        "## 최근접 이웃 알고리즘\n",
        "- 주위의 다른 데이터를 통해 다수를 차지하는 것을 정답으로 사용 \n",
        "- 데이터가 많을 땐 사용하기 어려운 모델임. 데이터가 크기 때문에 메모리가 많이 필요하고, 직선 거리를 계산하는 시간도 오래걸리기 때문\n",
        "- "
      ]
    },
    {
      "cell_type": "markdown",
      "metadata": {
        "id": "axqg2q1hnuDe"
      },
      "source": [
        "## 관련 개념 정리\n",
        "- 모델 : 알고리즘이 구현된 객체\n",
        "- 훈련 : 모델에 데이터를 전달하여 규칙을 학습하는 과정\n",
        "- 정확도 : 정확한 답을 얼마나 맞혔는지 백분율로 나타낸 값\n",
        "  - 정확도 = (맞힌 개수) / (전체 데이터 수)"
      ]
    },
    {
      "cell_type": "code",
      "execution_count": 12,
      "metadata": {
        "id": "NLN6D0xkHpxj"
      },
      "outputs": [],
      "source": [
        "# 최근접 이웃 알고리즘\n",
        "\n",
        "from sklearn.neighbors import KNeighborsClassifier"
      ]
    },
    {
      "cell_type": "code",
      "execution_count": 13,
      "metadata": {
        "id": "Vj6Y6uc2L2Lm"
      },
      "outputs": [],
      "source": [
        "# KNeighborsClassifier의 객체 만들기\n",
        "\n",
        "kn = KNeighborsClassifier()"
      ]
    },
    {
      "cell_type": "code",
      "execution_count": 14,
      "metadata": {
        "colab": {
          "base_uri": "https://localhost:8080/"
        },
        "id": "9mp45T9nH1eE",
        "outputId": "16af03b6-33ac-4442-cd6d-2a34d85d4801"
      },
      "outputs": [
        {
          "data": {
            "text/plain": [
              "KNeighborsClassifier()"
            ]
          },
          "execution_count": 14,
          "metadata": {},
          "output_type": "execute_result"
        }
      ],
      "source": [
        "# fish와 target data를 이용하여 도미를 찾기 위한 기준 학습\n",
        "\n",
        "kn.fit(fish, fish_target) "
      ]
    },
    {
      "cell_type": "code",
      "execution_count": 15,
      "metadata": {
        "colab": {
          "base_uri": "https://localhost:8080/"
        },
        "id": "wjbB0YcuMmvb",
        "outputId": "b0c0db59-28bf-4073-a19d-6a459a9acb36"
      },
      "outputs": [
        {
          "data": {
            "text/plain": [
              "1.0"
            ]
          },
          "execution_count": 15,
          "metadata": {},
          "output_type": "execute_result"
        }
      ],
      "source": [
        "# 훈련 평가 = 정확도 계산(0~1 사이의 값)\n",
        "# 정확도가 1.0 -> 정답을 정확히 맞춤\n",
        "\n",
        "kn.score(fish, fish_target) "
      ]
    },
    {
      "cell_type": "code",
      "execution_count": 16,
      "metadata": {
        "colab": {
          "base_uri": "https://localhost:8080/"
        },
        "id": "VU__iG8YNTav",
        "outputId": "852cd472-4718-4956-a3d2-e03b5542b6db"
      },
      "outputs": [
        {
          "data": {
            "text/plain": [
              "array([0])"
            ]
          },
          "execution_count": 16,
          "metadata": {},
          "output_type": "execute_result"
        }
      ],
      "source": [
        "# 모델 성능 확인해보기 (1 : 도미, 0 : 빙어)\n",
        "# fish가 2차원이니까 predict() 매서드도 2차원으로\n",
        "kn.predict([[10, 8.5]])"
      ]
    },
    {
      "cell_type": "markdown",
      "metadata": {
        "id": "5DoP5z5hOrBO"
      },
      "source": [
        "최근접 이웃 모델은 기본으로 참고하는 데이터가 5개임. <br>\n",
        "n_neighbors를 통해 참고 데이터를 늘렸을 때의 값 확인해보기"
      ]
    },
    {
      "cell_type": "code",
      "execution_count": 17,
      "metadata": {
        "id": "bKbk5rO3NgR4"
      },
      "outputs": [],
      "source": [
        "kn49 = KNeighborsClassifier(n_neighbors = 49)"
      ]
    },
    {
      "cell_type": "code",
      "execution_count": 18,
      "metadata": {
        "colab": {
          "base_uri": "https://localhost:8080/"
        },
        "id": "FZ4GgRAIPHdN",
        "outputId": "47fc60e1-7e65-405a-9adb-9c9b70171ecf"
      },
      "outputs": [
        {
          "data": {
            "text/plain": [
              "0.7142857142857143"
            ]
          },
          "execution_count": 18,
          "metadata": {},
          "output_type": "execute_result"
        }
      ],
      "source": [
        "# 도미가 35개, 빙어가 14개 있으므로 어떤 데이터를 넣어도 도미로 예측할 것임.\n",
        "\n",
        "kn49.fit(fish, fish_target)\n",
        "kn49.score(fish, fish_target) "
      ]
    },
    {
      "cell_type": "code",
      "execution_count": 19,
      "metadata": {
        "colab": {
          "base_uri": "https://localhost:8080/"
        },
        "id": "TbH6PRWtPNH0",
        "outputId": "6e257e96-5297-400f-ebec-9a306f3a71aa"
      },
      "outputs": [
        {
          "name": "stdout",
          "output_type": "stream",
          "text": [
            "18 0.9795918367346939\n"
          ]
        }
      ],
      "source": [
        "# n_neighbors의 최적값 찾기\n",
        "\n",
        "kn = KNeighborsClassifier()\n",
        "kn.fit(fish, fish_target)\n",
        "\n",
        "for n in range(5,50):\n",
        "  kn.n_neighbors = n\n",
        "  score = kn.score(fish, fish_target)\n",
        "\n",
        "  if score < 1 :\n",
        "    print(n, score)\n",
        "    break"
      ]
    }
  ],
  "metadata": {
    "colab": {
      "collapsed_sections": [],
      "provenance": []
    },
    "kernelspec": {
      "display_name": "Python 3.10.2 64-bit",
      "language": "python",
      "name": "python3"
    },
    "language_info": {
      "name": "python",
      "version": "3.10.2"
    },
    "vscode": {
      "interpreter": {
        "hash": "aee8b7b246df8f9039afb4144a1f6fd8d2ca17a180786b69acc140d282b71a49"
      }
    }
  },
  "nbformat": 4,
  "nbformat_minor": 0
}
